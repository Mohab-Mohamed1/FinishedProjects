{
 "cells": [
  {
   "cell_type": "markdown",
   "metadata": {},
   "source": [
    "# Siamese Network Classifier"
   ]
  },
  {
   "cell_type": "markdown",
   "metadata": {},
   "source": [
    "## Project description\n",
    "I needed to classify input images based on certain classes but the problem is that the number of classes might increase or decrease many times, so if we used normal classifier it will require us to retrain the model and that is very impractical, therefore I will try a new approach(Similarity network) which will allow me to add or remove classes on the fly by putting the target classes in a database then comparing the input image with each of the classes image from the database and we can add/remove images to/from database."
   ]
  },
  {
   "cell_type": "code",
   "execution_count": null,
   "metadata": {
    "executionInfo": {
     "elapsed": 5101,
     "status": "ok",
     "timestamp": 1619742487180,
     "user": {
      "displayName": "Mohab Mohamed",
      "photoUrl": "https://lh3.googleusercontent.com/a-/AOh14Gh9r12nCc8k49I24h4y8IKH84Zrc7yaB7Ci_uhf=s64",
      "userId": "02498937400217015948"
     },
     "user_tz": -120
    },
    "id": "a8aCZTwgN4nF"
   },
   "outputs": [],
   "source": [
    "\"\"\"\n",
    "Created on Thr Apr 15 9:40:21 2021\n",
    "\n",
    "@author: Mohab Mohamed\n",
    "\"\"\"\n",
    "\n",
    "import torchvision\n",
    "import torch.utils.data as utils\n",
    "from torchvision import datasets\n",
    "import torchvision.transforms as transforms\n",
    "from torch.utils.data import DataLoader,Dataset\n",
    "from torch.autograd import Variable\n",
    "import matplotlib.pyplot as plt\n",
    "import torchvision.utils\n",
    "import numpy as np\n",
    "import time\n",
    "import copy\n",
    "from torch.optim import lr_scheduler\n",
    "import os\n",
    "import torch\n",
    "from torch.autograd import Variable\n",
    "import torch.nn as nn\n",
    "from torch import optim\n",
    "import torch.nn.functional as F\n",
    "import random\n",
    "import cv2"
   ]
  },
  {
   "cell_type": "code",
   "execution_count": null,
   "metadata": {
    "colab": {
     "base_uri": "https://localhost:8080/"
    },
    "executionInfo": {
     "elapsed": 25758,
     "status": "ok",
     "timestamp": 1619742514945,
     "user": {
      "displayName": "Mohab Mohamed",
      "photoUrl": "https://lh3.googleusercontent.com/a-/AOh14Gh9r12nCc8k49I24h4y8IKH84Zrc7yaB7Ci_uhf=s64",
      "userId": "02498937400217015948"
     },
     "user_tz": -120
    },
    "id": "3ERB2S2T08_B",
    "outputId": "e495d629-fe67-4644-81d2-52f3676ea270"
   },
   "outputs": [],
   "source": [
    "from google.colab import drive\n",
    "drive.mount('/content/drive')"
   ]
  },
  {
   "cell_type": "code",
   "execution_count": null,
   "metadata": {
    "colab": {
     "base_uri": "https://localhost:8080/"
    },
    "executionInfo": {
     "elapsed": 656,
     "status": "ok",
     "timestamp": 1619742524940,
     "user": {
      "displayName": "Mohab Mohamed",
      "photoUrl": "https://lh3.googleusercontent.com/a-/AOh14Gh9r12nCc8k49I24h4y8IKH84Zrc7yaB7Ci_uhf=s64",
      "userId": "02498937400217015948"
     },
     "user_tz": -120
    },
    "id": "_MJG1Eu6OUFO",
    "outputId": "0758bbb3-df0e-4555-e223-690f29fc2e0e"
   },
   "outputs": [],
   "source": [
    "!ls 'drive/MyDrive/PlantVillage' #Image dataset path"
   ]
  },
  {
   "cell_type": "code",
   "execution_count": null,
   "metadata": {
    "colab": {
     "base_uri": "https://localhost:8080/"
    },
    "executionInfo": {
     "elapsed": 894,
     "status": "ok",
     "timestamp": 1619742525786,
     "user": {
      "displayName": "Mohab Mohamed",
      "photoUrl": "https://lh3.googleusercontent.com/a-/AOh14Gh9r12nCc8k49I24h4y8IKH84Zrc7yaB7Ci_uhf=s64",
      "userId": "02498937400217015948"
     },
     "user_tz": -120
    },
    "id": "yfxBNJ74WzZp",
    "outputId": "785d3a18-3bfd-4b45-d3ed-4f2487093dc4"
   },
   "outputs": [],
   "source": [
    "!pwd"
   ]
  },
  {
   "cell_type": "code",
   "execution_count": null,
   "metadata": {
    "executionInfo": {
     "elapsed": 594,
     "status": "ok",
     "timestamp": 1619742526070,
     "user": {
      "displayName": "Mohab Mohamed",
      "photoUrl": "https://lh3.googleusercontent.com/a-/AOh14Gh9r12nCc8k49I24h4y8IKH84Zrc7yaB7Ci_uhf=s64",
      "userId": "02498937400217015948"
     },
     "user_tz": -120
    },
    "id": "O9wT6s3i2eXB"
   },
   "outputs": [],
   "source": [
    "# variables that will be needed throughout the project\n",
    "train_path = './drive/MyDrive/PlantVillage/train'\n",
    "valid_path = './drive/MyDrive/PlantVillage/validate'\n",
    "test_path = './drive/MyDrive/PlantVillage/test'\n",
    "\n",
    "batch_size = 16\n",
    "lr = 0.001\n",
    "dim = 224"
   ]
  },
  {
   "cell_type": "code",
   "execution_count": null,
   "metadata": {
    "executionInfo": {
     "elapsed": 746,
     "status": "ok",
     "timestamp": 1619742526689,
     "user": {
      "displayName": "Mohab Mohamed",
      "photoUrl": "https://lh3.googleusercontent.com/a-/AOh14Gh9r12nCc8k49I24h4y8IKH84Zrc7yaB7Ci_uhf=s64",
      "userId": "02498937400217015948"
     },
     "user_tz": -120
    },
    "id": "ezKoevWM24Ne"
   },
   "outputs": [],
   "source": [
    "# Some utility functions\n",
    "def imshow(img,text=None,should_save=False):\n",
    "    npimg = img.numpy()\n",
    "    plt.axis(\"off\")\n",
    "    if text:\n",
    "        plt.text(75, 8, text, style='italic',fontweight='bold',\n",
    "            bbox={'facecolor':'white', 'alpha':0.8, 'pad':10})\n",
    "    plt.imshow(np.transpose(npimg, (1, 2, 0)))\n",
    "    plt.show()    \n",
    "\n",
    "def show_plot(iteration,loss):\n",
    "    plt.plot(iteration,loss)\n",
    "    plt.show()"
   ]
  },
  {
   "cell_type": "code",
   "execution_count": null,
   "metadata": {
    "executionInfo": {
     "elapsed": 874,
     "status": "ok",
     "timestamp": 1619742527356,
     "user": {
      "displayName": "Mohab Mohamed",
      "photoUrl": "https://lh3.googleusercontent.com/a-/AOh14Gh9r12nCc8k49I24h4y8IKH84Zrc7yaB7Ci_uhf=s64",
      "userId": "02498937400217015948"
     },
     "user_tz": -120
    },
    "id": "W2M66kyL34Gu"
   },
   "outputs": [],
   "source": [
    "# This class is made to handle our costum dataset.\n",
    "class SiameseNetworkDataset(Dataset):\n",
    "    \n",
    "    def __init__(self,rootFolder,iterations,transform=None):\n",
    "        self.data = []\n",
    "        self.rootFolder = rootFolder\n",
    "        self.iterations = iterations\n",
    "        self.transform = transform\n",
    "        self.make_pairwise_set()\n",
    "        self.data_len = iterations * 2\n",
    "    \n",
    "    def make_pairwise_set(self):\n",
    "        img1Index = None\n",
    "        img2Index = None\n",
    "        class1Index = None\n",
    "        class2Index = None\n",
    "        img1 = None\n",
    "        img2 = None\n",
    "        imgDataClasses = os.listdir(self.rootFolder)\n",
    "\n",
    "        # Form similar pairs\n",
    "        for i in range(self.iterations):\n",
    "            randomClass = random.choice(imgDataClasses) # Choose a random class from classes list \n",
    "            imgPath = os.path.join(self.rootFolder, randomClass)\n",
    "            imgs = os.listdir(imgPath) #images in that class\n",
    "            randomImg = random.choice(imgs)  # Choose a random image from that class\n",
    "            img1Index = imgs.index(randomImg) # Save the index of the random img\n",
    "            img1 = os.path.join(imgPath, randomImg) # first image of that class\n",
    "            while True:\n",
    "                randomImg = random.choice(imgs)\n",
    "                img2Index = imgs.index(randomImg)\n",
    "                if(img1Index != img2Index):\n",
    "                    break;\n",
    "            img2 = os.path.join(imgPath, randomImg)\n",
    "            self.data.append([img1, img2, 1])\n",
    "\n",
    "        # Form different pairs\n",
    "        for i in range(self.iterations):\n",
    "            randomClass = random.choice(imgDataClasses) # Choose a random class from classes list \n",
    "            class1Index = imgDataClasses.index(randomClass) # save the index of that random class\n",
    "            imgPath = os.path.join(self.rootFolder, randomClass)\n",
    "            imgs = os.listdir(imgPath) #images in that class\n",
    "            randomImg = random.choice(imgs)  # Choose a random image from that class\n",
    "            img1 = os.path.join(imgPath, randomImg) # first image of that class\n",
    "            while True:\n",
    "                randomClass = random.choice(imgDataClasses) # Choose a random class from classes list \n",
    "                class2Index = imgDataClasses.index(randomClass) # save the index of that random class \n",
    "                if(class1Index != class2Index):\n",
    "                    break;\n",
    "            imgPath = os.path.join(self.rootFolder, randomClass)\n",
    "            imgs = os.listdir(imgPath) #images in that class\n",
    "            randomImg = random.choice(imgs)  # Choose a random image from that class\n",
    "            img2 = os.path.join(imgPath, randomImg)\n",
    "            self.data.append([img1, img2, 0])\n",
    "        # Note the the result is a list that have consecutive similar pairs then followed by \n",
    "        # consecutive different pairs which is bad when training the model \n",
    "        # so we need to shuffle the result of this function.\n",
    "    \n",
    "    def __getitem__(self,index):\n",
    "        \n",
    "        # getting the image path\n",
    "        img1Path = self.data[index][0]\n",
    "        img2Path = self.data[index][1]\n",
    "        label = self.data[index][2]\n",
    "        \n",
    "        \n",
    "        # Loading the image\n",
    "        img1 = cv2.imread(img1Path)\n",
    "        img2 = cv2.imread(img2Path)\n",
    "        \n",
    "        # Apply image transformations\n",
    "        if self.transform is not None:\n",
    "            img1 = self.transform(img1)\n",
    "            img2 = self.transform(img2)\n",
    "        \n",
    "        return img1, img2 , label\n",
    "    \n",
    "    def __len__(self):\n",
    "        return self.data_len"
   ]
  },
  {
   "cell_type": "code",
   "execution_count": null,
   "metadata": {
    "executionInfo": {
     "elapsed": 601,
     "status": "ok",
     "timestamp": 1619742527647,
     "user": {
      "displayName": "Mohab Mohamed",
      "photoUrl": "https://lh3.googleusercontent.com/a-/AOh14Gh9r12nCc8k49I24h4y8IKH84Zrc7yaB7Ci_uhf=s64",
      "userId": "02498937400217015948"
     },
     "user_tz": -120
    },
    "id": "P06tfPCm37sP"
   },
   "outputs": [],
   "source": [
    "class SiameseNetwork(nn.Module):\n",
    "    def __init__(self):\n",
    "        super(SiameseNetwork, self).__init__()\n",
    "        \n",
    "        # Setting up the Sequential of CNN Layers\n",
    "        self.cnn1 = nn.Sequential(\n",
    "            \n",
    "            nn.Conv2d(3, 96, kernel_size=11,stride=1),\n",
    "            nn.ReLU(inplace=True),\n",
    "            nn.LocalResponseNorm(5,alpha=0.0001,beta=0.75,k=2),\n",
    "            nn.MaxPool2d(2, stride=2),\n",
    "            \n",
    "            nn.Conv2d(96, 256, kernel_size=3,stride=2,padding=1),\n",
    "            nn.ReLU(inplace=True),\n",
    "            nn.LocalResponseNorm(5,alpha=0.0001,beta=0.75,k=2),\n",
    "            nn.MaxPool2d(2, stride=2),\n",
    "\n",
    "        )\n",
    "        \n",
    "        # Defining the fully connected layers\n",
    "        self.fc1 = nn.Sequential(\n",
    "            nn.Linear(256*27*27, 1024),\n",
    "            nn.ReLU(inplace=True),\n",
    "            nn.Dropout2d(p=0.5),\n",
    "            \n",
    "            nn.Linear(1024, 128),\n",
    "            nn.ReLU(inplace=True),\n",
    "            \n",
    "            nn.Linear(128,10))\n",
    "        \n",
    "  \n",
    "  \n",
    "    def forward_once(self, x):\n",
    "        # Forward pass \n",
    "        output = self.cnn1(x)\n",
    "        output = output.view(output.size()[0], -1)\n",
    "        output = self.fc1(output)\n",
    "        return output\n",
    "\n",
    "    def forward(self, input1, input2):\n",
    "        # forward pass of input 1\n",
    "        output1 = self.forward_once(input1)\n",
    "        # forward pass of input 2\n",
    "        output2 = self.forward_once(input2)\n",
    "        return output1, output2"
   ]
  },
  {
   "cell_type": "code",
   "execution_count": null,
   "metadata": {
    "executionInfo": {
     "elapsed": 745,
     "status": "ok",
     "timestamp": 1619742528342,
     "user": {
      "displayName": "Mohab Mohamed",
      "photoUrl": "https://lh3.googleusercontent.com/a-/AOh14Gh9r12nCc8k49I24h4y8IKH84Zrc7yaB7Ci_uhf=s64",
      "userId": "02498937400217015948"
     },
     "user_tz": -120
    },
    "id": "UREJzsHx4AO9"
   },
   "outputs": [],
   "source": [
    "class ContrastiveLoss(torch.nn.Module):\n",
    "    \"\"\"\n",
    "    Contrastive loss function.\n",
    "    Based on: http://yann.lecun.com/exdb/publis/pdf/hadsell-chopra-lecun-06.pdf\n",
    "    \"\"\"\n",
    "\n",
    "    def __init__(self, margin=2.0):\n",
    "        super(ContrastiveLoss, self).__init__()\n",
    "        self.margin = margin\n",
    "\n",
    "    def forward(self, output1, output2, label):\n",
    "        euclidean_distance = F.pairwise_distance(output1, output2)\n",
    "        loss_contrastive = torch.mean((1-label) * torch.pow(euclidean_distance, 2) +\n",
    "                                      (label) * torch.pow(torch.clamp(self.margin - euclidean_distance, min=0.0), 2))\n",
    "\n",
    "\n",
    "        return loss_contrastive"
   ]
  },
  {
   "cell_type": "code",
   "execution_count": null,
   "metadata": {
    "colab": {
     "base_uri": "https://localhost:8080/"
    },
    "executionInfo": {
     "elapsed": 558,
     "status": "ok",
     "timestamp": 1619742528724,
     "user": {
      "displayName": "Mohab Mohamed",
      "photoUrl": "https://lh3.googleusercontent.com/a-/AOh14Gh9r12nCc8k49I24h4y8IKH84Zrc7yaB7Ci_uhf=s64",
      "userId": "02498937400217015948"
     },
     "user_tz": -120
    },
    "id": "LDBfgb2m5Q-e",
    "outputId": "8bb6a524-9dd6-4f9f-b98d-317108ce673f"
   },
   "outputs": [],
   "source": [
    "if torch.cuda.is_available():\n",
    "    print('Yes')"
   ]
  },
  {
   "cell_type": "code",
   "execution_count": null,
   "metadata": {
    "executionInfo": {
     "elapsed": 639,
     "status": "ok",
     "timestamp": 1619742530491,
     "user": {
      "displayName": "Mohab Mohamed",
      "photoUrl": "https://lh3.googleusercontent.com/a-/AOh14Gh9r12nCc8k49I24h4y8IKH84Zrc7yaB7Ci_uhf=s64",
      "userId": "02498937400217015948"
     },
     "user_tz": -120
    },
    "id": "RTuNA4xb5Os_"
   },
   "outputs": [],
   "source": [
    "device = 'cuda' if torch.cuda.is_available else 'cpu'"
   ]
  },
  {
   "cell_type": "code",
   "execution_count": null,
   "metadata": {
    "executionInfo": {
     "elapsed": 23906,
     "status": "ok",
     "timestamp": 1619742555024,
     "user": {
      "displayName": "Mohab Mohamed",
      "photoUrl": "https://lh3.googleusercontent.com/a-/AOh14Gh9r12nCc8k49I24h4y8IKH84Zrc7yaB7Ci_uhf=s64",
      "userId": "02498937400217015948"
     },
     "user_tz": -120
    },
    "id": "mqfoL3EK5g-y"
   },
   "outputs": [],
   "source": [
    "path = 'D:/NoteBook/G.P/PlantVillage/train'\n",
    "train_dataset = SiameseNetworkDataset(rootFolder=train_path, iterations=200, transform=transforms.Compose([\n",
    "                                                                                        transforms.ToPILImage(),\n",
    "                                                                                        transforms.ToTensor()]))"
   ]
  },
  {
   "cell_type": "code",
   "execution_count": null,
   "metadata": {
    "colab": {
     "base_uri": "https://localhost:8080/",
     "height": 134
    },
    "executionInfo": {
     "elapsed": 5209,
     "status": "ok",
     "timestamp": 1619742564677,
     "user": {
      "displayName": "Mohab Mohamed",
      "photoUrl": "https://lh3.googleusercontent.com/a-/AOh14Gh9r12nCc8k49I24h4y8IKH84Zrc7yaB7Ci_uhf=s64",
      "userId": "02498937400217015948"
     },
     "user_tz": -120
    },
    "id": "4MUnnTVq5mDY",
    "outputId": "a9d666b1-44dd-49da-c870-680135e5a244"
   },
   "outputs": [],
   "source": [
    "train_dataloader = DataLoader(train_dataset, batch_size=8, num_workers=0, shuffle=True)\n",
    "batch = next(iter(train_dataloader))\n",
    "concatenated = torch.cat((batch[0], batch[1]),0)\n",
    "imshow(torchvision.utils.make_grid(concatenated))\n",
    "print(batch[2].numpy())"
   ]
  },
  {
   "cell_type": "code",
   "execution_count": null,
   "metadata": {
    "executionInfo": {
     "elapsed": 13847,
     "status": "ok",
     "timestamp": 1619742576677,
     "user": {
      "displayName": "Mohab Mohamed",
      "photoUrl": "https://lh3.googleusercontent.com/a-/AOh14Gh9r12nCc8k49I24h4y8IKH84Zrc7yaB7Ci_uhf=s64",
      "userId": "02498937400217015948"
     },
     "user_tz": -120
    },
    "id": "0yX0grET6ppV"
   },
   "outputs": [],
   "source": [
    "# Declare Siamese Network\n",
    "net = SiameseNetwork().to(device) #if we are using device \n",
    "# Decalre Loss Function\n",
    "criterion = ContrastiveLoss()\n",
    "# Declare Optimizer\n",
    "optimizer = optim.RMSprop(net.parameters(), lr=1e-4, alpha=0.99, eps=1e-8, weight_decay=0.0005, momentum=0.9)"
   ]
  },
  {
   "cell_type": "code",
   "execution_count": null,
   "metadata": {
    "executionInfo": {
     "elapsed": 12143,
     "status": "ok",
     "timestamp": 1619742576678,
     "user": {
      "displayName": "Mohab Mohamed",
      "photoUrl": "https://lh3.googleusercontent.com/a-/AOh14Gh9r12nCc8k49I24h4y8IKH84Zrc7yaB7Ci_uhf=s64",
      "userId": "02498937400217015948"
     },
     "user_tz": -120
    },
    "id": "UNXok1oj61gg"
   },
   "outputs": [],
   "source": [
    "def train():\n",
    "    counter = []\n",
    "    loss_history = [] \n",
    "    iteration_number= 0\n",
    "    \n",
    "    for epoch in range(0, 25):\n",
    "        for i, data in enumerate(train_dataloader,0):\n",
    "            img0, img1 , label = data\n",
    "            img0, img1 , label = img0.cuda(), img1.cuda() , label.cuda()\n",
    "            optimizer.zero_grad()\n",
    "            output1,output2 = net(img0,img1)\n",
    "            loss_contrastive = criterion(output1,output2,label)\n",
    "            loss_contrastive.backward()\n",
    "            optimizer.step()\n",
    "            if i %50 == 0 :\n",
    "                print(\"Epoch number {}\\n Current loss {}\\n\".format(epoch,loss_contrastive.item()))\n",
    "                iteration_number +=10\n",
    "                counter.append(iteration_number)\n",
    "                loss_history.append(loss_contrastive.item())\n",
    "    return net"
   ]
  },
  {
   "cell_type": "code",
   "execution_count": null,
   "metadata": {
    "colab": {
     "base_uri": "https://localhost:8080/"
    },
    "executionInfo": {
     "elapsed": 328482,
     "status": "ok",
     "timestamp": 1619739061566,
     "user": {
      "displayName": "Mohab Mohamed",
      "photoUrl": "https://lh3.googleusercontent.com/a-/AOh14Gh9r12nCc8k49I24h4y8IKH84Zrc7yaB7Ci_uhf=s64",
      "userId": "02498937400217015948"
     },
     "user_tz": -120
    },
    "id": "Cnunw0Cu7JeK",
    "outputId": "26028ca0-8db0-4f51-c83c-a131813a6b92"
   },
   "outputs": [],
   "source": [
    "model = train()"
   ]
  },
  {
   "cell_type": "code",
   "execution_count": null,
   "metadata": {
    "colab": {
     "base_uri": "https://localhost:8080/"
    },
    "executionInfo": {
     "elapsed": 4750,
     "status": "ok",
     "timestamp": 1619742576680,
     "user": {
      "displayName": "Mohab Mohamed",
      "photoUrl": "https://lh3.googleusercontent.com/a-/AOh14Gh9r12nCc8k49I24h4y8IKH84Zrc7yaB7Ci_uhf=s64",
      "userId": "02498937400217015948"
     },
     "user_tz": -120
    },
    "id": "uacC7tPx7Oi_",
    "outputId": "ddfed833-518a-44d9-dcae-9c6ce194df56"
   },
   "outputs": [],
   "source": [
    "torch.FloatTensor([0])"
   ]
  },
  {
   "cell_type": "code",
   "execution_count": null,
   "metadata": {
    "id": "F4UV-GnKLLaG"
   },
   "outputs": [],
   "source": []
  }
 ],
 "metadata": {
  "accelerator": "GPU",
  "colab": {
   "authorship_tag": "ABX9TyOpLsVCilKQR1yYpCr79sFi",
   "collapsed_sections": [],
   "name": "S-N.ipynb",
   "provenance": []
  },
  "kernelspec": {
   "display_name": "Python 3",
   "language": "python",
   "name": "python3"
  },
  "language_info": {
   "codemirror_mode": {
    "name": "ipython",
    "version": 3
   },
   "file_extension": ".py",
   "mimetype": "text/x-python",
   "name": "python",
   "nbconvert_exporter": "python",
   "pygments_lexer": "ipython3",
   "version": "3.7.6"
  }
 },
 "nbformat": 4,
 "nbformat_minor": 1
}
